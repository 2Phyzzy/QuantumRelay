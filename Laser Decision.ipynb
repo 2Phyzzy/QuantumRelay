{
 "cells": [
  {
   "cell_type": "markdown",
   "metadata": {
    "slideshow": {
     "slide_type": "-"
    }
   },
   "source": [
    "# Project B: Quantum Relay\n",
    "\n",
    "Marcus Clark, QE-CDT, the University of Bristol.\n",
    "\n",
    "### Introduction\n",
    "\n",
    "A Quantum Repeater is a system where the entanglement between two pairs of photons are swapped, entangling the most distant photons\n",
    "\n",
    "Below is schematic of a Quantum Repeater that shows how the sources and users are distributed: \n",
    "\n",
    "![title](Figures/Repeater_full_system.png)\n",
    "Figure 1"
   ]
  },
  {
   "cell_type": "markdown",
   "metadata": {},
   "source": [
    "There are two types of Quantum Repeaters;\n",
    "- with quantum memory,\n",
    "- without quantum memory (Quantum Relay).\n",
    "\n",
    "I will be discussing a Quantum Relay system\n",
    "\n",
    "<br>"
   ]
  },
  {
   "cell_type": "markdown",
   "metadata": {},
   "source": [
    "### The Reason For The Project\n",
    "\n",
    "It is inevitable that a Quantum Relay will be developed for the UK Quantum Network.\n",
    "\n",
    "This means that the resources required to construct it need analysis.\n",
    "\n",
    "Here i will be simulating the system such that we can decide which laser properties, hence which laser is required for this system.\n",
    "\n",
    "I will be overestimating the error, specifically carrying forward the Possonian fluctuation as an actual error and not just the fluctuation in in signal."
   ]
  },
  {
   "cell_type": "markdown",
   "metadata": {},
   "source": [
    "### The Qunatum relay\n",
    "\n",
    "The Quantum Relay is based on the Hong–Ou–Mandel (HOM) effect.\n",
    "\n",
    "The probability of two photons interfeering, and therefor becoming entanglend, is given by:\n",
    "\n",
    "\\begin{align}\n",
    "     P_c = \\frac{1}{2} ( 1 - \\exp(-\\frac{1}{2} \\Delta z^2 (c  \\times t_{cw})^2)  \\exp(-\\frac{1}{2} (\\Delta \\Omega \\times t_{cw})^2)), \\tag{1}\\\\\n",
    "\\end{align}\n",
    "\n",
    "where $\\Delta z$ is the path length difference, $t_{cw}$ is the coincidence window, and $\\Delta \\Omega$ is the frequency difference between the photons, as shown by <a href=\"https://iopscience.iop.org/article/10.1088/0953-4075/39/18/R01\" target=\"_blank\">Wang, K</a>. \n",
    "\n",
    "<br>"
   ]
  },
  {
   "cell_type": "markdown",
   "metadata": {},
   "source": [
    "This however isn't particularly useful experimentally. \n",
    "\n",
    "If we are to use this, we would be relying on an absence of coincidences to confirm that the entanglement was swapped. \n",
    "\n",
    "This heavily reduces the ability to confirm that the photons that both Alice and Bob received are entagled.\n",
    "\n",
    "<br>"
   ]
  },
  {
   "cell_type": "markdown",
   "metadata": {},
   "source": [
    "### Relay Setup\n",
    "\n",
    "To get a useful output from this system is a simple alteration that can be implimented.\n",
    "\n",
    "This is to take the bunched outputs and put those into another beam splitter\n",
    "\n",
    "![title](Figures/Entanglement_Swapping_20200506.png)\n",
    "Figure 2\n",
    "\n",
    "This will give a 0.5 probability that the bunched photons are then antibunched giving a positive signal."
   ]
  },
  {
   "cell_type": "markdown",
   "metadata": {},
   "source": [
    "So taking Equation 1, the probability of measuring a coincidence with one extra beam splitter is;\n",
    "\n",
    "\\begin{align}\n",
    "     P_{c2} = \\frac{1}{2} \\times \\frac{1}{2} ( 1 - P_c). \\tag{2}\\\\\n",
    "\\end{align}\n",
    "\n",
    "The first $\\frac{1}{2}$ comes from measuring only one of the two outputs, \n",
    "and the other comes from the probability of a bunched pair then becoming anti-bunched.\n",
    "\n",
    "<br>"
   ]
  },
  {
   "cell_type": "markdown",
   "metadata": {},
   "source": [
    "### The Detector Setup\n",
    "\n",
    "This then becomes a limit of available technology.\n",
    "\n",
    "If the Relay has access to *only* 2 detectors then this is the best signal that can be seen.\n",
    "\n",
    "If the Relay has access to 4 detectors then this signal can use both of the bunched outputs, as shown in the figure above.\n",
    "\n",
    "This would take Equations 1 and 2, and become;\n",
    "\n",
    "\\begin{align}\n",
    "     P_{c3} = \\frac{1}{4} ( 1 + \\exp(-\\frac{1}{2} \\Delta z^2 (c  \\times t_{cw})^2)  \\exp(-\\frac{1}{2} (\\Delta \\Omega \\times t_{cw})^2)). \\tag{3}\\\\\n",
    "\\end{align}\n",
    "\n",
    "This then produces a Coincidence Probability of the form below;\n",
    "\n",
    "![title](Figures/HomPeakPlot.png)\n",
    "Figure 3"
   ]
  },
  {
   "cell_type": "markdown",
   "metadata": {},
   "source": [
    "### The Sources\n",
    "\n",
    "Now that the Swapping rate can be calculated, the rate of pairs at the sources need to be sorted.\n",
    "\n",
    "For this type of system Pulsed sources are the most common, as they pulse production syncronisation allows for efficient arrival syncronisation at the relay.\n",
    "\n",
    "Each source has the following parameters;\n",
    "\n",
    "- a entangled pair count,\n",
    "- a heralding efficiency,\n",
    "- central ferquencies and frequency bandwidths for each output,\n",
    "- pulse widths,\n",
    "- pulse rates,\n",
    "- singles caused by other factors."
   ]
  },
  {
   "cell_type": "markdown",
   "metadata": {},
   "source": [
    "The pair count is the rate at which entangled pairs are generated within a Spontaneous Parametric Down Conversion (SPDC) based source. \n",
    "\n",
    "Here we are genearting wavelength sepearated pairs, such that they can be sent to the correct user by multiplexing.\n",
    "\n",
    "The Join Spectral Amplitude (JSA) of two such source, with different pulse properties, is shown below;\n",
    "\n",
    "\n",
    "\n",
    "![title](JSAData/PulsedLaserJSA/Tsunami_JSA.png) | ![title](JSAData/PulsedLaserJSA/Katana_JSA.png)\n",
    "- | -\n",
    "1(A) | 1(B)\n",
    "Figure 4\n",
    "\n",
    "Figure A shows the JSA for a laser with a $100fs$ pulse width and a $15nm$ bandwidth.\n",
    "\n",
    "Figure B shows the JSA for a laser with a $35ps$ pulse width and a $0.5nm$ bandwidth.\n",
    "\n",
    "This shows the probabiliy of photons that are entangled with the wrong channel being sent to the wrong user. This is the heralding efficiency.\n",
    "\n",
    "<nb>"
   ]
  },
  {
   "cell_type": "markdown",
   "metadata": {},
   "source": [
    "To separate these photons to users Wavelength Division Multiplexing (WDM) is used, and the spectrum is sepearted according to <a href=\"https://www.fiberdyne.com/products/itu-grid.html\" target=\"_blank\">ITU channels</a>.\n",
    "\n",
    "This cuts these Signal and Idler sepctrum into $100$GHz slices, around $1550.12$nm.\n",
    "\n",
    "The channel at $1550.12$nm is labeles ITU channel 34.\n",
    "\n",
    "The below figure shows how the probability of swapping changes, as calculated with Equation 3 in dB, as the ITU channel of one of the relay inputs is changed, as a function of the path difference;\n",
    "\n",
    "\n",
    "![title](Figures/Figure_Heatmap_ITUchannelVSPathDifference_dB_cut.png)\n",
    "Figure 5"
   ]
  },
  {
   "cell_type": "markdown",
   "metadata": {},
   "source": [
    "### Transmission\n",
    "\n",
    "A main factor in calculating the rate at which swapping happens is the loss in the transmition to the Relay.\n",
    "\n",
    "There is an inherent loss in the fibre, such that the probability of transmission is;\n",
    "\n",
    "\\begin{align}\n",
    "     P_{fibre} = \\eta^n \\times 10^{-\\frac{\\alpha d}{10}}, \\tag{4}\\\\\n",
    "\\end{align}\n",
    "\n",
    "where $\\alpha = 0.3$dB/km is the transmission coefficient, $d$ is the fibre distance in km, $\\eta$ is the detector efficiency, and $n$ is the number of detectors.\n",
    "\n",
    "The probability of an coincidence being measured if given by;\n",
    "\n",
    "\\begin{align}\n",
    "     P_{total} = P_{coincidence} \\times P_{fibre}, \\tag{5}\\\\\n",
    "\\end{align}\n",
    "\n",
    "where $P_{coincidence}$ is given in Equation 3.\n",
    "\n",
    "There is also dispersion jitter that is assosicted with the fibre links, but in this system the difference between dispersion included and dispersion excluded that it will not be explicitly stated where it is in the calculations. \n",
    "\n",
    "This is due to dispersion compensation in the fibre networks that are used, so the dispersion coefficient is $18$ ps/(nm km)"
   ]
  },
  {
   "cell_type": "markdown",
   "metadata": {},
   "source": [
    "### Synchronisation\n",
    "\n",
    "The pulses produced by the source are synchronised.\n",
    "\n",
    "The value of the Synchronisation Jitter changes the probability of the Relay measuring coincidences. \n",
    "\n",
    "This Jitter is essentially how much the pulse position can be different from their expected position. \n",
    "\n",
    "This changes the overlapping of the pulses in the beam splitter, reducing the probability of a swap occuring.\n",
    "\n",
    "This also adds further noise on the swaps."
   ]
  },
  {
   "cell_type": "markdown",
   "metadata": {},
   "source": [
    "### Full Relay Signal\n",
    "\n",
    "This signal is then calcuated with both Equation 5 and this overlap probability. This is given by;\n",
    "\n",
    "\\begin{align}\n",
    "     P_{swap\\_signal} = P_{total} \\times P_{pulse\\_overlap}. \\tag{6}\\\\\n",
    "\\end{align}\n",
    "\n",
    "\n",
    "The Noise on the Relay is a sum of the Possonian noise, the Accidentals, and the Sync Jitter error;\n",
    "\n",
    "\\begin{align}\n",
    "    P_{swap\\_noise} = \\sqrt{P_{swap\\_signal}} + E_{jitter} + E_{accidentals}. \\tag{7}\\\\\n",
    "\\end{align}\n",
    "\n",
    "In Equation 7;\n",
    "\n",
    "\\begin{align}\n",
    "    E_{accidentals} = P_{coincidence} \\times Singles_{AR} \\times Singles_{BR} \\times t_{cw}, \\tag{8} \\\\\n",
    "\\end{align}\n",
    "\n",
    "where $Singles_{AR}$ are the singles received by the Relay that come from Source 1, and $Singles_{BR}$ are the singles received by the Relay that come from Source 2."
   ]
  },
  {
   "cell_type": "markdown",
   "metadata": {},
   "source": [
    "In Equation 7;\n",
    "\n",
    "\\begin{align}\n",
    "    E_{jitter} = T \\times E, \\tag{9} \\\\\n",
    "\\end{align}\n",
    "\n",
    "is the error from the synchronisation jitter.\n",
    "\n",
    "The values in Equation 9 are calculated from;\n",
    "\n",
    "\\begin{align}\n",
    "    T = \\frac{P_{swap\\_signal} + \\sqrt{P_{swap\\_signal}} + E_{accidentals}}{1 - E}, \\tag{10} \\\\\n",
    "\\end{align}\n",
    "\n",
    "where $T$ is the total signal and noise at the repeater, and $E$ is the ratio of the total signal and error to the error assosiated with the synchronisation jitter.\n",
    "\n",
    "The Possonian error is essentially the fluctuation in the true signal. "
   ]
  },
  {
   "cell_type": "markdown",
   "metadata": {},
   "source": [
    "### The Users\n",
    "\n",
    "The two users, Alice (A) and Bob (B), in a Quantum Relay system each receive the other signal from the two sources. \n",
    "\n",
    "They measure the coincidences betwen their photons as if nothing has changed in the QKD protocol. \n",
    "\n",
    "The only change is that they refer to a Four-Fold coincidence to see if they were successful, rather than the normal Two-Fold coincidence. \n",
    "\n",
    "This Four-Fold coincidence rate is calculated by;\n",
    "\n",
    "\\begin{align}\n",
    "    FF_{signal} = P_{swap\\_signal} \\times Signal_{A} \\times Signal_{B} \\times P_{pulse\\_overlap}, \\tag{11} \\\\\n",
    "\\end{align}\n",
    "\n",
    "where $Signal_{user}$ is the rate at which the photons from the pairs arrive at the user, and $P_{pulse\\_overlap}$ is the probability of the pulses being seen as a coincidence at the users."
   ]
  },
  {
   "cell_type": "markdown",
   "metadata": {},
   "source": [
    "There are several further errors in the Four-Fold. These are;\n",
    "\n",
    "- a true coincidence between A and B with a false swap;\n",
    "\n",
    "\\begin{align}\n",
    "    FF_{trueAB\\_falseSwap} = P_{swap\\_noise} \\times Signal_{A} \\times Signal_{B} \\times P_{pulse\\_overlap}, \\tag{12} \\\\\n",
    "\\end{align}\n",
    "\n",
    "- an accidental between A and B with a true swap;\n",
    "\n",
    "\\begin{align}\n",
    "    FF_{accAB\\_trueSwap} = P_{swap\\_signal} \\times Singles_{A} \\times Singles_{B} \\times (t_{cw})^2, \\tag{13} \\\\\n",
    "\\end{align}\n",
    "\n",
    "- an accidental between A and B with a false swap;\n",
    "\n",
    "\\begin{align}\n",
    "    FF_{accAB\\_trueSwap} = P_{swap\\_noise} \\times Singles_{A} \\times Singles_{B} \\times (t_{cw})^2, \\tag{14} \\\\\n",
    "\\end{align}\n",
    "\n",
    "- and the possonian noise on the Four-Fold signal;\n",
    "\n",
    "\\begin{align}\n",
    "    FF_{possonian} = \\sqrt{FF_{signal}}. \\tag{15} \\\\\n",
    "\\end{align}\n",
    "\n",
    "This makes the Four-Fold noise;\n",
    "\n",
    "\\begin{align}\n",
    "    FF_{noise} = FF_{trueAB\\_falseSwap} + FF_{accAB\\_trueSwap} + FF_{accAB\\_trueSwap} + FF_{possonian}. \\tag{16} \\\\\n",
    "\\end{align}\n"
   ]
  },
  {
   "cell_type": "markdown",
   "metadata": {},
   "source": [
    "### QBER Estimate\n",
    "\n",
    "The Quantum Bit Error Rate is the proportion of error to the key rate.\n",
    "\n",
    "For any QKD system there is a maximum QBER that if exceded QKD cannot be preformed, and this is about a QBER of 0.1. \n",
    "\n",
    "As this simulation does not calculate the Key Rates the QBER can only be estimated. \n",
    "\n",
    "This estimate is calculated by;\n",
    "\n",
    "\\begin{align}\n",
    "    QBER = \\frac{Noise_{without\\_possonian}}{Signal - Noise_{possonian\\_fluctiation}}. \\tag{17} \\\\\n",
    "\\end{align}"
   ]
  },
  {
   "cell_type": "markdown",
   "metadata": {},
   "source": [
    "# Here the pulse statistics for the source of an Quantum Relay  system will be analysed.\n",
    "\n",
    "### This will feed into the decision on which laser to use in the experimental setup\n",
    "\n",
    "There are the required imports and definitions for the analysis:"
   ]
  },
  {
   "cell_type": "code",
   "execution_count": 1,
   "metadata": {},
   "outputs": [],
   "source": [
    "import time\n",
    "from datetime import date\n",
    "from datetime import datetime\n",
    "from Classes import *\n",
    "import matplotlib.pyplot as plt \n",
    "import numpy as np\n",
    "import matplotlib.mlab as mlab\n",
    "from IPython.display import display, Math, Latex\n",
    "from scipy.optimize import curve_fit\n",
    "from scipy import asarray as ar,exp\n",
    "import scipy.integrate as integrate\n",
    "plusminus = u'\\u00b1'\n",
    "\n",
    "def Freq2Wave(Freq_bw_Hz,central_wavelength_nm):\n",
    "    c = 299792458 \n",
    "    central_wavelength = central_wavelength_nm*1E-9\n",
    "    Freq_bw = Freq_bw_Hz\n",
    "    Wave_bw = (Freq_bw*(central_wavelength**2))/c\n",
    "    return Wave_bw\n",
    "    \n",
    "def Wave2Freg(Wave_bw_nm,central_wavelength_nm):\n",
    "    c = 299792458\n",
    "    central_wavelength = central_wavelength_nm*1E-9\n",
    "    Wave_bw = Wave_bw_nm*1E-9\n",
    "    Ferq_bw = (c*Wave_bw)/(central_wavelength**2)\n",
    "    return Freq_bw\n",
    "\n",
    "lasers = {\"Tsunami\":[0.1,0.004E-12,1E-12],\"Katana\":[35,1E-12,1E-9]}"
   ]
  },
  {
   "cell_type": "markdown",
   "metadata": {},
   "source": [
    "## For the 100 fp pulsed laser (Taitanium-Saphire Tsunami):"
   ]
  },
  {
   "cell_type": "code",
   "execution_count": 2,
   "metadata": {},
   "outputs": [],
   "source": [
    "S1_100fs  = Source(pair_count=1E6, frequency1_THz=193.4, frequency2_THz=193.4, pulse_width_ps=0.1, \n",
    "             pulse_rate_MHz=2, singles_fluorescence = 3000, dark_counts = 1000, afterpulsing = 0.15,\n",
    "             channel_isolation = 500, DWDM_coupling_loss = 0.35)\n",
    "\n",
    "S2_100fs  = Source(pair_count=1E6, frequency1_THz=193.4,  frequency2_THz=193.4,  pulse_width_ps=0.1, \n",
    "             pulse_rate_MHz=2, singles_fluorescence = 3000, dark_counts = 1000, afterpulsing = 0.15,\n",
    "             channel_isolation = 500, DWDM_coupling_loss = 0.35)\n",
    "\n",
    "LA1_100fs = Link(Length=25, Loss=0.3, ITU_bandwidth_Hz = 100*1E9, peak_wavelength_nm=1550.12,\n",
    "             dispersion_coef=18, fibre_coupling_loss=0.08)\n",
    "\n",
    "LR1_100fs = Link(Length = 25, Loss=0.3, ITU_bandwidth_Hz = 100*10E9, peak_wavelength_nm=1550.12,\n",
    "             dispersion_coef=18, fibre_coupling_loss=0.08)\n",
    "\n",
    "LB2_100fs = Link(Length = 25, Loss=0.3, ITU_bandwidth_Hz = 100*10E9, peak_wavelength_nm=1550.12,\n",
    "             dispersion_coef=18, fibre_coupling_loss=0.08)\n",
    "\n",
    "LR2_100fs = Link(Length = 25, Loss=0.3, ITU_bandwidth_Hz = 100*10E9, peak_wavelength_nm=1550.12,\n",
    "             dispersion_coef=18, fibre_coupling_loss=0.08)\n",
    "\n",
    "UA_100fs  = User(Link = LA1_100fs, Source = S1_100fs)\n",
    "\n",
    "UB_100fs  = User(Link = LB2_100fs,  Source = S2_100fs)\n",
    "\n",
    "Sy_100fs  = Sync(Source1 = S1_100fs, Link1 = LR1_100fs, Source2 = S2_100fs, Link2 = LR2_100fs, \n",
    "             coincidence_window = 150E-12, sync_jitter = 0.004E-12)\n",
    "\n",
    "R_100fs   = Repeater(UA_100fs,UB_100fs,S1_100fs,S2_100fs,LA1_100fs,LR1_100fs,LB2_100fs,LR2_100fs,Sy_100fs)\n",
    "TP_100fs  = TwoPartyQKD(R_100fs)"
   ]
  },
  {
   "cell_type": "markdown",
   "metadata": {},
   "source": [
    "## For the 35ps pulsed laser (Katana):"
   ]
  },
  {
   "cell_type": "code",
   "execution_count": 3,
   "metadata": {},
   "outputs": [],
   "source": [
    "S1_35ps  = Source(pair_count=1E6, frequency1_THz=193.4, frequency2_THz=193.4, pulse_width_ps=35, \n",
    "             pulse_rate_MHz=2, singles_fluorescence = 3000, dark_counts = 1000, afterpulsing = 0.15,\n",
    "             channel_isolation = 500, DWDM_coupling_loss = 0.35)\n",
    "\n",
    "S2_35ps  = Source(pair_count=1E6, frequency1_THz=193.4,  frequency2_THz=193.4,  pulse_width_ps=35, \n",
    "             pulse_rate_MHz=2, singles_fluorescence = 3000, dark_counts = 1000, afterpulsing = 0.15,\n",
    "             channel_isolation = 500, DWDM_coupling_loss = 0.35)\n",
    "\n",
    "LA1_35ps = Link(Length=25, Loss=0.3, ITU_bandwidth_Hz = 100*1E9, peak_wavelength_nm=1550.12,\n",
    "           dispersion_coef=18, fibre_coupling_loss=0.08)\n",
    "\n",
    "LR1_35ps = Link(Length = 25, Loss=0.3, ITU_bandwidth_Hz = 100*10E9, peak_wavelength_nm=1550.12,\n",
    "           dispersion_coef=18, fibre_coupling_loss=0.08)\n",
    "\n",
    "LB2_35ps = Link(Length = 25, Loss=0.3, ITU_bandwidth_Hz = 100*10E9, peak_wavelength_nm=1550.12,\n",
    "           dispersion_coef=18, fibre_coupling_loss=0.08)\n",
    "\n",
    "LR2_35ps = Link(Length = 25, Loss=0.3, ITU_bandwidth_Hz = 100*10E9, peak_wavelength_nm=1550.12,\n",
    "           dispersion_coef=18, fibre_coupling_loss=0.08)\n",
    "\n",
    "UA_35ps  = User(Link = LA1_35ps, Source = S1_35ps)\n",
    "\n",
    "UB_35ps  = User(Link = LB2_35ps,  Source = S2_35ps)\n",
    "\n",
    "Sy_35ps  = Sync(Source1 = S1_35ps, Link1 = LR1_35ps, Source2 = S2_35ps, Link2 = LR2_35ps, \n",
    "           coincidence_window = 150E-12, sync_jitter = 2.5E-12)\n",
    "\n",
    "R_35ps   = Repeater(UA_35ps,UB_35ps,S1_35ps,S2_35ps,LA1_35ps,LR1_35ps,LB2_35ps,LR2_35ps,Sy_35ps)\n",
    "TP_35ps  = TwoPartyQKD(R_35ps)"
   ]
  },
  {
   "cell_type": "markdown",
   "metadata": {},
   "source": [
    "## To calculate the Four-Fold data for both systems"
   ]
  },
  {
   "cell_type": "code",
   "execution_count": 4,
   "metadata": {},
   "outputs": [
    {
     "name": "stdout",
     "output_type": "stream",
     "text": [
      "For Tsunami Laser:\n",
      "\n",
      "Alice Signal:             97094.05578812519 1/s\n",
      "Bob Signal:               97094.05578812519 1/s\n",
      "Alice Singles:            150156.9553037185 1/s\n",
      "Bob Singles:              150156.9553037185 1/s\n",
      "Repeater Signal with A:   97094.05578812519 1/s\n",
      "Repeater Signal with B:   97094.05578812519 1/s\n",
      "Repeater Singals with A:  150156.9553037185 1/s\n",
      "Repeater Singals with B:  150156.9553037185 1/s\n",
      "Swap Signal (disp):       4855.18825968504 1/s\n",
      "Swap Signal (no disp):    4855.18825968504 1/s\n",
      "Swap Possonian Noise:     69.67918096307562 1/s\n",
      "Error from Sync Jitter:   15.790238002696663 1/s\n",
      "Accidentals:              1.691033341956219 1/s\n",
      " \n",
      "Repeater Swapping Rate =  4855.18825968504 ± 87.1604523077285 1/s\n",
      " \n",
      "Four-fold coincidences:        101.42633273416884 ± 12.162769981848411 1/s\n",
      "Four-fold Noise from QR:       1.8208078789508788 1/s\n",
      "Four-Fold Accidentals (true):  2.4630855685805372e-06 1/s\n",
      "Four-Fold Accidentals (fasle): 8.578781290822855e-10 1/s\n",
      "Four-Fold Possonian:           10.341959638954085 1/s\n",
      "QBER extimate (from code):     0.019990370258034792\n",
      "\n",
      "\n",
      "For Katana Laser:\n",
      "\n",
      "Alice Signal:             97094.05578812519 1/s\n",
      "Bob Signal:               97094.05578812519 1/s\n",
      "Alice Singles:            125389.63432868187 1/s\n",
      "Bob Singles:              125389.63432868187 1/s\n",
      "Repeater Signal with A:   97094.05578812519 1/s\n",
      "Repeater Signal with B:   97094.05578812519 1/s\n",
      "Repeater Singals with A:  125389.63432868187 1/s\n",
      "Repeater Singals with B:  125389.63432868187 1/s\n",
      "Swap Signal (disp):       4303.6504886425255 1/s\n",
      "Swap Signal (no disp):    4303.650488642518 1/s\n",
      "Swap Possonian Noise:     65.60221405290011 1/s\n",
      "Error from Sync Jitter:   41.29375892448986 1/s\n",
      "Accidentals:              1.1791920297810417 1/s\n",
      " \n",
      "Repeater Swapping Rate =  4303.6504886425255 ± 108.075165007171 1/s\n",
      " \n",
      "Four-fold coincidences:        85.11899465030007 ± 11.363542766691372 1/s\n",
      "Four-fold Noise from QR:       2.1375456525460894 1/s\n",
      "Four-Fold Accidentals (true):  1.5224491065511653e-06 1/s\n",
      "Four-Fold Accidentals (fasle): 4.1714815292973997e-10 1/s\n",
      "Four-Fold Possonian:           9.225995591279029 1/s\n",
      "QBER extimate (from code):     0.028165274820013374\n"
     ]
    }
   ],
   "source": [
    "print(\"For Tsunami Laser:\")\n",
    "print(\"\")\n",
    "\n",
    "print(\"Alice Signal:            \",R_100fs.SignalA(), \"1/s\")\n",
    "print(\"Bob Signal:              \",R_100fs.SignalB(), \"1/s\")\n",
    "print(\"Alice Singles:           \",R_100fs.SinglesA(), \"1/s\")\n",
    "print(\"Bob Singles:             \",R_100fs.SinglesB(), \"1/s\")\n",
    "print(\"Repeater Signal with A:  \",R_100fs.SignalAR(), \"1/s\")\n",
    "print(\"Repeater Signal with B:  \",R_100fs.SignalBR(), \"1/s\")\n",
    "print(\"Repeater Singals with A: \",R_100fs.SinglesAR(), \"1/s\")\n",
    "print(\"Repeater Singals with B: \",R_100fs.SinglesBR(), \"1/s\")\n",
    "print(\"Swap Signal (disp):      \",R_100fs.SwapSignal(minimum_coincidence = False, just_pc = False,dispersion=True), \"1/s\")\n",
    "print(\"Swap Signal (no disp):   \",R_100fs.SwapSignal(minimum_coincidence = False, just_pc = False,dispersion=False), \"1/s\")\n",
    "print(\"Swap Possonian Noise:    \",R_100fs.SwapNoise(), \"1/s\")\n",
    "print(\"Error from Sync Jitter:  \",R_100fs.JitterError(byX=False, minmax=1E-12), \"1/s\")\n",
    "print(\"Accidentals:             \",R_100fs.Accidentals(minimum_coincidence = False), \"1/s\")\n",
    "Signal, Noise = R_100fs.FullBSMSignalAndNoise(minmax=1E-12)\n",
    "print(\" \")\n",
    "print(\"Repeater Swapping Rate = \", Signal, plusminus,Noise,\"1/s\")\n",
    "print(\" \")\n",
    "\n",
    "FFSig, FFNoi = TP_100fs.FourFold_full(minmax=1E-12)\n",
    "print(\"Four-fold coincidences:       \", FFSig,plusminus,FFNoi, \"1/s\" )\n",
    "print(\"Four-fold Noise from QR:      \", TP_100fs.FourFold_trueAB_falseQR(minmax=1E-12), \"1/s\")\n",
    "print(\"Four-Fold Accidentals (true): \", TP_100fs.FourFold_accidentals_trueswap(), \"1/s\")\n",
    "print(\"Four-Fold Accidentals (fasle):\", TP_100fs.FourFold_accidentals_falseswap(), \"1/s\")\n",
    "\n",
    "print(\"Four-Fold Possonian:          \", TP_100fs.FourFold_possonian(), \"1/s\")\n",
    "\n",
    "print(\"QBER extimate (from code):    \", TP_100fs.QBER_estimate(minmax=1E-12) )\n",
    "\n",
    "print(\"\")\n",
    "print(\"\")\n",
    "print(\"For Katana Laser:\")\n",
    "print(\"\")\n",
    "\n",
    "print(\"Alice Signal:            \",R_35ps.SignalA(), \"1/s\")\n",
    "print(\"Bob Signal:              \",R_35ps.SignalB(), \"1/s\")\n",
    "print(\"Alice Singles:           \",R_35ps.SinglesA(), \"1/s\")\n",
    "print(\"Bob Singles:             \",R_35ps.SinglesB(), \"1/s\")\n",
    "print(\"Repeater Signal with A:  \",R_35ps.SignalAR(), \"1/s\")\n",
    "print(\"Repeater Signal with B:  \",R_35ps.SignalBR(), \"1/s\")\n",
    "print(\"Repeater Singals with A: \",R_35ps.SinglesAR(), \"1/s\")\n",
    "print(\"Repeater Singals with B: \",R_35ps.SinglesBR(), \"1/s\")\n",
    "print(\"Swap Signal (disp):      \",R_35ps.SwapSignal(minimum_coincidence = False, just_pc = False,dispersion=True), \"1/s\")\n",
    "print(\"Swap Signal (no disp):   \",R_35ps.SwapSignal(minimum_coincidence = False, just_pc = False,dispersion=False), \"1/s\")\n",
    "print(\"Swap Possonian Noise:    \",R_35ps.SwapNoise(), \"1/s\")\n",
    "print(\"Error from Sync Jitter:  \",R_35ps.JitterError(byX=False, minmax=1E-9), \"1/s\")\n",
    "print(\"Accidentals:             \",R_35ps.Accidentals(minimum_coincidence = False), \"1/s\")\n",
    "Signal, Noise = R_35ps.FullBSMSignalAndNoise(minmax=1E-9)\n",
    "print(\" \")\n",
    "print(\"Repeater Swapping Rate = \", Signal, plusminus,Noise,\"1/s\")\n",
    "print(\" \")\n",
    "\n",
    "FFSig, FFNoi = TP_35ps.FourFold_full(minmax=1E-9)\n",
    "print(\"Four-fold coincidences:       \", FFSig,plusminus,FFNoi, \"1/s\" )\n",
    "print(\"Four-fold Noise from QR:      \", TP_35ps.FourFold_trueAB_falseQR(minmax=1E-9), \"1/s\")\n",
    "print(\"Four-Fold Accidentals (true): \", TP_35ps.FourFold_accidentals_trueswap(), \"1/s\")\n",
    "print(\"Four-Fold Accidentals (fasle):\", TP_35ps.FourFold_accidentals_falseswap(), \"1/s\")\n",
    "\n",
    "print(\"Four-Fold Possonian:          \", TP_35ps.FourFold_possonian(), \"1/s\")\n",
    "\n",
    "print(\"QBER extimate (from code):    \", TP_35ps.QBER_estimate(minmax=1E-9) )"
   ]
  },
  {
   "cell_type": "markdown",
   "metadata": {},
   "source": [
    "## The plot of the pulses with respect to the Sync Jitter seperation:"
   ]
  },
  {
   "cell_type": "code",
   "execution_count": 5,
   "metadata": {},
   "outputs": [],
   "source": [
    "xA_100fs, yA_100fs, xB_100fs, yB_100fs = TP_100fs.PulseShape(Plot=True, AandB=True, preciseness=10000,  dispersion=True, minmax=1E-12)\n",
    "xA_35ps, yA_35ps, xB_35ps, yB_35ps = TP_35ps.PulseShape(Plot=True, AandB=True, preciseness=10000,  dispersion=True, minmax=1E-9)\n",
    "\n",
    "x_100fs, y_100fs, na, na = Sy_100fs.ArrivalProbabilityatBSMInput(Plot=True,Rate=False,preciseness=10000,dif = 100,dispersion=True,minmax=1E-12)\n",
    "x_35ps, y_35ps, na, na = Sy_35ps.ArrivalProbabilityatBSMInput(Plot=True,Rate=False,preciseness=10000,dif = 100,dispersion=True,minmax=1E-9)"
   ]
  },
  {
   "cell_type": "markdown",
   "metadata": {},
   "source": [
    "This shows how the pulses overlap in the Qunatum Relay as a function of time.\n",
    "\n",
    "The shaded green area is the overlap, which is the part of the pulses that interfer causing the entanglement to swap"
   ]
  },
  {
   "cell_type": "code",
   "execution_count": 6,
   "metadata": {},
   "outputs": [
    {
     "data": {
      "image/png": "[encoded data removed]",
      "text/plain": [
       "<Figure size 720x360 with 1 Axes>"
      ]
     },
     "metadata": {
      "needs_background": "light"
     },
     "output_type": "display_data"
    }
   ],
   "source": [
    "plt.figure(figsize=[10,5])\n",
    "plt.title(\"Pulse  position probability area for the Tsunami Lasers\")\n",
    "plt.xlabel(\"Pulse position seperated by the Sync Jitter, s\")\n",
    "plt.ylabel(\"arbitraty units\")\n",
    "plt.plot(xA_100fs,yA_100fs,label=\"Pulse from source 1\")\n",
    "plt.plot(xB_100fs,yB_100fs,label=\"Pulse from source 2\")\n",
    "plt.fill(x_100fs,y_100fs,\"green\")\n",
    "plt.legend()\n",
    "now = datetime.now()\n",
    "dt_string = now.strftime(\"%Y_%m_%d_%H%M%S\")\n",
    "plt.savefig(\"\".join([\"FigsFromNotebook/New/\",dt_string,\"_Tsunami_Pulses.png\"]))\n",
    "plt.show()"
   ]
  },
  {
   "cell_type": "markdown",
   "metadata": {},
   "source": [
    "Saved Figure Here\n",
    "\n",
    "[//]:![title](FigsFromNotebook/2020_08_25_101107_Tsunami_Pulses.png)"
   ]
  },
  {
   "cell_type": "code",
   "execution_count": 7,
   "metadata": {},
   "outputs": [
    {
     "data": {
      "image/png": "[encoded data removed]",
      "text/plain": [
       "<Figure size 720x360 with 1 Axes>"
      ]
     },
     "metadata": {
      "needs_background": "light"
     },
     "output_type": "display_data"
    }
   ],
   "source": [
    "time.sleep(1)\n",
    "plt.figure(figsize=[10,5])\n",
    "plt.title(\"Pulse position probability area for the Katana Laser\")\n",
    "plt.xlabel(\"Pulse position seperated by the Sync Jitter, s\")\n",
    "plt.ylabel(\"arbitraty units\")\n",
    "plt.plot(xA_35ps,yA_35ps,label=\"Pulse from source 1\")\n",
    "plt.plot(xB_35ps,yB_35ps,label=\"Pulse from source 2\")\n",
    "plt.fill(x_35ps,y_35ps,\"green\")\n",
    "plt.legend()\n",
    "now = datetime.now()\n",
    "dt_string = now.strftime(\"%Y_%m_%d_%H%M%S\")\n",
    "plt.savefig(\"\".join([\"FigsFromNotebook/New/\",dt_string,\"_Katana_Pulses.png\"]))\n",
    "plt.show()"
   ]
  },
  {
   "cell_type": "markdown",
   "metadata": {},
   "source": [
    "Saved Figure Here\n",
    "\n",
    "[//]:![title](FigsFromNotebook/2020_08_25_101107_Katana_Pulses.png)"
   ]
  },
  {
   "cell_type": "markdown",
   "metadata": {},
   "source": [
    "## To plot the Noise assosiated to the Sync Jitter as a function of the Sync Jitter"
   ]
  },
  {
   "cell_type": "code",
   "execution_count": 8,
   "metadata": {},
   "outputs": [],
   "source": [
    "tss = []\n",
    "JRss1 = []\n",
    "JRss2 = []\n",
    "\n",
    "widths = [0.1,35]\n",
    "width = widths[0]\n",
    "JRs1 = []\n",
    "JRs2 = []\n",
    "ts = []\n",
    "for t in np.linspace(0,50*1E-3,10):\n",
    "    #print(width)\n",
    "    S1  = Source(10**6,193.4,193.4, pulse_width_ps=0.1, pulse_rate_MHz=2)\n",
    "    S2  = Source(10**6,193.4,193.4, pulse_width_ps=0.1, pulse_rate_MHz=2)\n",
    "    LA1 = Link(25)\n",
    "    LR1 = Link(25)\n",
    "    LB2 = Link(25)\n",
    "    LR2 = Link(25)\n",
    "    UA  = User(LA1,S1)\n",
    "    UB  = User(LB2,S2)\n",
    "    Sy  = Sync(S1,LR1,S2,LR2, sync_jitter = t*1E-12)\n",
    "    R   = Repeater(UA,UB,S1,S2,LA1,LR1,LB2,LR2,Sy)\n",
    "\n",
    "    \n",
    "    JR1 = R.JitterError(byX=False,Output_T=False,minmax=1E-12)\n",
    "    JRs1.append(JR1)\n",
    "    JR2 = R.JitterError(byX=False,Output_T=True,minmax=1E-12)\n",
    "    JRs2.append(JR2)\n",
    "    ts.append(t)\n",
    "\n",
    "JRss1.append(JRs1)\n",
    "JRss2.append(JRs2)\n",
    "tss.append(ts)\n",
    "\n",
    "width = widths[1]\n",
    "JRs1 = []\n",
    "JRs2 = []\n",
    "ts = []\n",
    "for t in np.linspace(0,20000*1E-3,10):\n",
    "    #print(width)\n",
    "    S1  = Source(10**6,193.4,193.4, pulse_width_ps=35, pulse_rate_MHz=2)\n",
    "    S2  = Source(10**6,193.4,193.4, pulse_width_ps=35, pulse_rate_MHz=2)\n",
    "    LA1 = Link(25)\n",
    "    LR1 = Link(25)\n",
    "    LB2 = Link(25)\n",
    "    LR2 = Link(25)\n",
    "    UA  = User(LA1,S1)\n",
    "    UB  = User(LB2,S2)\n",
    "    Sy  = Sync(S1,LR1,S2,LR2, sync_jitter = t*1E-12)\n",
    "    R   = Repeater(UA,UB,S1,S2,LA1,LR1,LB2,LR2,Sy)\n",
    "\n",
    "    \n",
    "    JR1 = R.JitterError(byX=False,Output_T=False,minmax=1E-9)\n",
    "    JRs1.append(JR1)\n",
    "    JR2 = R.JitterError(byX=False,Output_T=True,minmax=1E-9)\n",
    "    JRs2.append(JR2)\n",
    "    ts.append(t)\n",
    "\n",
    "JRss1.append(JRs1)\n",
    "JRss2.append(JRs2)\n",
    "tss.append(ts)"
   ]
  },
  {
   "cell_type": "markdown",
   "metadata": {},
   "source": [
    "This is the proportion of the Sync Jitter Error to the total signal and error as seen in the equation,\n",
    "\n",
    "$Total = \\frac{Signal + Noise + Accidentals}{1 - Error}$,\n",
    "\n",
    "where $Error$ is the proportion of the total signal and Noise that the Sync Jitter Error is.\n",
    "\n",
    "Below is the value of $Error$:"
   ]
  },
  {
   "cell_type": "code",
   "execution_count": 9,
   "metadata": {},
   "outputs": [
    {
     "data": {
      "image/png": "[encoded data removed]",
      "text/plain": [
       "<Figure size 720x360 with 1 Axes>"
      ]
     },
     "metadata": {
      "needs_background": "light"
     },
     "output_type": "display_data"
    }
   ],
   "source": [
    "time.sleep(1)\n",
    "plt.figure(figsize=[10,5])\n",
    "plt.plot(tss[0],JRss1[0],\"o-\",label=\"Tsunami\")\n",
    "plt.xlabel(\"Sync Jitter, fs\")\n",
    "plt.ylabel(\"Sync Jitter Error Value\")\n",
    "plt.grid()\n",
    "plt.legend()\n",
    "now = datetime.now()\n",
    "dt_string = now.strftime(\"%Y_%m_%d_%H%M%S\")\n",
    "plt.savefig(\"\".join([\"FigsFromNotebook/New/\",dt_string,\"_Tsunami_SJvSE.png\"]))\n",
    "plt.show()"
   ]
  },
  {
   "cell_type": "markdown",
   "metadata": {},
   "source": [
    "Saved Figure Here\n",
    "\n",
    "[//]:![title](FigsFromNotebook/2020_08_25_101114_Tsunami_SJvSE.png)"
   ]
  },
  {
   "cell_type": "code",
   "execution_count": 10,
   "metadata": {},
   "outputs": [
    {
     "data": {
      "image/png": "[encoded data removed]",
      "text/plain": [
       "<Figure size 720x360 with 1 Axes>"
      ]
     },
     "metadata": {
      "needs_background": "light"
     },
     "output_type": "display_data"
    }
   ],
   "source": [
    "time.sleep(1)\n",
    "plt.figure(figsize=[10,5])\n",
    "plt.plot(tss[1],JRss1[1],\"o-\",label=\"Katana\")\n",
    "plt.xlabel(\"Sync Jitter, fs\")\n",
    "plt.ylabel(\"Sync Jitter Error Value\")\n",
    "plt.grid()\n",
    "plt.legend()\n",
    "now = datetime.now()\n",
    "dt_string = now.strftime(\"%Y_%m_%d_%H%M%S\")\n",
    "plt.savefig(\"\".join([\"FigsFromNotebook/New/\",dt_string,\"_Katana_SJvSE.png\"]))\n",
    "plt.show()"
   ]
  },
  {
   "cell_type": "markdown",
   "metadata": {},
   "source": [
    "Saved Figure Here\n",
    "\n",
    "[//]:![title](FigsFromNotebook/2020_08_25_101114_Katana_SJvSE.png)"
   ]
  },
  {
   "cell_type": "markdown",
   "metadata": {},
   "source": [
    "Below is the value $Total \\times Error$ from the above equation:"
   ]
  },
  {
   "cell_type": "code",
   "execution_count": 11,
   "metadata": {},
   "outputs": [
    {
     "data": {
      "image/png": "[encoded data removed]",
      "text/plain": [
       "<Figure size 720x360 with 1 Axes>"
      ]
     },
     "metadata": {
      "needs_background": "light"
     },
     "output_type": "display_data"
    }
   ],
   "source": [
    "time.sleep(1)\n",
    "plt.figure(figsize=[10,5])\n",
    "plt.plot(tss[0],JRss2[0],\"o-\",label=\"Tsunami\")\n",
    "plt.xlabel(\"Sync Jitter, fs\")\n",
    "plt.ylabel(\"Sync Jitter Total Error\")\n",
    "plt.grid()\n",
    "plt.legend()\n",
    "#plt.xlim([0,50])\n",
    "#plt.ylim([0,10000])\n",
    "now = datetime.now()\n",
    "dt_string = now.strftime(\"%Y_%m_%d_%H%M%S\")\n",
    "plt.savefig(\"\".join([\"FigsFromNotebook/New/\",dt_string,\"_Tsuanmi_SJvE.png\"]))\n",
    "plt.show()"
   ]
  },
  {
   "cell_type": "markdown",
   "metadata": {},
   "source": [
    "Saved Figure Here\n",
    "\n",
    "[//]:![title](FigsFromNotebook/2020_08_25_101114_Tsuanmi_SJvE.png)"
   ]
  },
  {
   "cell_type": "code",
   "execution_count": 12,
   "metadata": {},
   "outputs": [
    {
     "data": {
      "image/png": "[encoded data removed]",
      "text/plain": [
       "<Figure size 720x360 with 1 Axes>"
      ]
     },
     "metadata": {
      "needs_background": "light"
     },
     "output_type": "display_data"
    }
   ],
   "source": [
    "time.sleep(1)\n",
    "plt.figure(figsize=[10,5])\n",
    "plt.plot(tss[1],JRss2[1],\"o-\",label=\"Katana\")\n",
    "plt.xlabel(\"Sync Jitter, fs\")\n",
    "plt.ylabel(\"Sync Jitter Total Error\")\n",
    "plt.grid()\n",
    "plt.legend()\n",
    "#plt.xlim([0,50])\n",
    "#plt.ylim([0,10000])\n",
    "now = datetime.now()\n",
    "dt_string = now.strftime(\"%Y_%m_%d_%H%M%S\")\n",
    "plt.savefig(\"\".join([\"FigsFromNotebook/New/\",dt_string,\"_Katana_SJvE.png\"]))\n",
    "plt.show()"
   ]
  },
  {
   "cell_type": "markdown",
   "metadata": {},
   "source": [
    "Saved Figure Here\n",
    "\n",
    "[//]:![title](FigsFromNotebook/2020_08_25_101115_Katana_SJvE.png)"
   ]
  },
  {
   "cell_type": "markdown",
   "metadata": {},
   "source": [
    "## To plot the Four-Fold coincidence rate and QBER against the Sync Jitter:"
   ]
  },
  {
   "cell_type": "code",
   "execution_count": 13,
   "metadata": {},
   "outputs": [
    {
     "name": "stdout",
     "output_type": "stream",
     "text": [
      "pulse width:  0.1 ps\n",
      "25% complete\n",
      "50% complete\n",
      "75% complete\n",
      "100% complete\n",
      "34.81818890571594  seconds for section\n",
      "pulse width:  35 ps\n",
      "25% complete\n",
      "50% complete\n",
      "75% complete\n",
      "100% complete\n",
      "32.58023715019226  seconds for section\n"
     ]
    }
   ],
   "source": [
    "start_time = time.time()\n",
    "\n",
    "sjs = []\n",
    "FFs = []\n",
    "FFes = []\n",
    "QBERs = []\n",
    "\n",
    "PulseWidths = [0.1,35]\n",
    "\n",
    "n = 20\n",
    "\n",
    "sj = []\n",
    "FF = []\n",
    "FFe = []\n",
    "QBER = []\n",
    "    \n",
    "print(\"pulse width: \",0.1, \"ps\")\n",
    "count=0\n",
    "for s in np.linspace(0,25*1E-3,n):\n",
    "    \n",
    "    \n",
    "    count +=1\n",
    "    if int(100*count/n) == 25:\n",
    "        print(\"25% complete\")\n",
    "    if int(100*count/n) == 50:\n",
    "        print(\"50% complete\")\n",
    "    if int(100*count/n) == 75:\n",
    "        print(\"75% complete\")\n",
    "    if int(100*count/n) == 100:\n",
    "        print(\"100% complete\")\n",
    "    \n",
    "    S1  = Source(pair_count=1E6,\n",
    "                 frequency1_THz=193.4,\n",
    "                 frequency2_THz=193.4, \n",
    "                 pulse_width_ps=0.1,\n",
    "                 pulse_rate_MHz=2,\n",
    "                 singles_fluorescence = 3000,\n",
    "                 dark_counts = 1000,\n",
    "                 afterpulsing = 0.15,\n",
    "                 channel_isolation = 500,\n",
    "                 DWDM_coupling_loss = 0.35)\n",
    "\n",
    "    S2  = Source(pair_count=1E6,\n",
    "                 frequency1_THz=193.4, \n",
    "                 frequency2_THz=193.4, \n",
    "                 pulse_width_ps=0.1,\n",
    "                 pulse_rate_MHz=2,\n",
    "                 singles_fluorescence = 3000,\n",
    "                 dark_counts = 1000,\n",
    "                 afterpulsing = 0.15,\n",
    "                 channel_isolation = 500,\n",
    "                 DWDM_coupling_loss = 0.35)\n",
    "\n",
    "    LA1 = Link(Length=25,\n",
    "               Loss=0.3,\n",
    "               ITU_bandwidth_Hz = 100*1E9,\n",
    "               peak_wavelength_nm=1550.12,\n",
    "               dispersion_coef=18,\n",
    "               fibre_coupling_loss=0.08)\n",
    "\n",
    "    LR1 = Link(Length = 25,\n",
    "               Loss=0.3,\n",
    "               ITU_bandwidth_Hz = 100*1E9,\n",
    "               peak_wavelength_nm=1550.12,\n",
    "               dispersion_coef=18,\n",
    "               fibre_coupling_loss=0.08)\n",
    "\n",
    "    LB2 = Link(Length = 25,\n",
    "               Loss=0.3,\n",
    "               ITU_bandwidth_Hz = 100*1E9,\n",
    "               peak_wavelength_nm=1550.12,\n",
    "               dispersion_coef=18,\n",
    "               fibre_coupling_loss=0.08)\n",
    "\n",
    "    LR2 = Link(Length = 25,\n",
    "               Loss=0.3,\n",
    "               ITU_bandwidth_Hz = 100*1E9,\n",
    "               peak_wavelength_nm=1550.12,\n",
    "               dispersion_coef=18,\n",
    "               fibre_coupling_loss=0.08)\n",
    "\n",
    "    UA  = User(Link = LA1,\n",
    "               Source = S1)\n",
    "\n",
    "    UB  = User(Link = LB2,\n",
    "               Source = S2)\n",
    "\n",
    "    Sy  = Sync(Source1 = S1,\n",
    "               Link1 = LR1,\n",
    "               Source2 = S2,\n",
    "               Link2 = LR2, \n",
    "               coincidence_window = 150E-12, \n",
    "               sync_jitter = s*1E-12)\n",
    "\n",
    "    R   = Repeater(UA,UB,S1,S2,LA1,LR1,LB2,LR2,Sy)\n",
    "    TP  = TwoPartyQKD(R)\n",
    "\n",
    "    Sig, Err = TP.FourFold_full(minmax=1E-12)\n",
    "    qber = TP.QBER_estimate(minmax=1E-12, preciseness=10000)\n",
    "\n",
    "    sj.append(s)\n",
    "    FF.append(Sig)\n",
    "    FFe.append(Err)\n",
    "    QBER.append(qber)\n",
    "\n",
    "sjs.append(sj)\n",
    "FFs.append(FF)\n",
    "FFes.append(FFe)\n",
    "QBERs.append(QBER)\n",
    "\n",
    "sj = []\n",
    "FF = []\n",
    "FFe = []\n",
    "QBER = []\n",
    "print(time.time()-start_time, \" seconds for section\")\n",
    "start_time = time.time()\n",
    "print(\"pulse width: \",35, \"ps\")\n",
    "count = 0\n",
    "for s in np.linspace(0,10000*1E-3,n):\n",
    "    #print(s)\n",
    "    \n",
    "    count +=1\n",
    "    if int(100*count/n) == 25:\n",
    "        print(\"25% complete\")\n",
    "    if int(100*count/n) == 50:\n",
    "        print(\"50% complete\")\n",
    "    if int(100*count/n) == 75:\n",
    "        print(\"75% complete\")\n",
    "    if int(100*count/n) == 100:\n",
    "        print(\"100% complete\")\n",
    "    \n",
    "    S1  = Source(pair_count=1E6,\n",
    "                 frequency1_THz=193.4,\n",
    "                 frequency2_THz=193.4, \n",
    "                 pulse_width_ps=35,\n",
    "                 pulse_rate_MHz=2,\n",
    "                 singles_fluorescence = 3000,\n",
    "                 dark_counts = 1000,\n",
    "                 afterpulsing = 0.15,\n",
    "                 channel_isolation = 500,\n",
    "                 DWDM_coupling_loss = 0.35)\n",
    "\n",
    "    S2  = Source(pair_count=1E6,\n",
    "                 frequency1_THz=193.4, \n",
    "                 frequency2_THz=193.4, \n",
    "                 pulse_width_ps=35,\n",
    "                 pulse_rate_MHz=2,\n",
    "                 singles_fluorescence = 3000,\n",
    "                 dark_counts = 1000,\n",
    "                 afterpulsing = 0.15,\n",
    "                 channel_isolation = 500,\n",
    "                 DWDM_coupling_loss = 0.35)\n",
    "\n",
    "    LA1 = Link(Length=25,\n",
    "               Loss=0.3,\n",
    "               ITU_bandwidth_Hz = 100*1E9,\n",
    "               peak_wavelength_nm=1550.12,\n",
    "               dispersion_coef=18,\n",
    "               fibre_coupling_loss=0.08)\n",
    "\n",
    "    LR1 = Link(Length = 25,\n",
    "               Loss=0.3,\n",
    "               ITU_bandwidth_Hz = 100*1E9,\n",
    "               peak_wavelength_nm=1550.12,\n",
    "               dispersion_coef=18,\n",
    "               fibre_coupling_loss=0.08)\n",
    "\n",
    "    LB2 = Link(Length = 25,\n",
    "               Loss=0.3,\n",
    "               ITU_bandwidth_Hz = 100*1E9,\n",
    "               peak_wavelength_nm=1550.12,\n",
    "               dispersion_coef=18,\n",
    "               fibre_coupling_loss=0.08)\n",
    "\n",
    "    LR2 = Link(Length = 25,\n",
    "               Loss=0.3,\n",
    "               ITU_bandwidth_Hz = 100*1E9,\n",
    "               peak_wavelength_nm=1550.12,\n",
    "               dispersion_coef=18,\n",
    "               fibre_coupling_loss=0.08)\n",
    "\n",
    "    UA  = User(Link = LA1,\n",
    "               Source = S1)\n",
    "\n",
    "    UB  = User(Link = LB2,\n",
    "               Source = S2)\n",
    "\n",
    "    Sy  = Sync(Source1 = S1,\n",
    "               Link1 = LR1,\n",
    "               Source2 = S2,\n",
    "               Link2 = LR2, \n",
    "               coincidence_window = 150E-12, \n",
    "               sync_jitter = s*1E-12)\n",
    "\n",
    "    R   = Repeater(UA,UB,S1,S2,LA1,LR1,LB2,LR2,Sy)\n",
    "    TP  = TwoPartyQKD(R)\n",
    "\n",
    "    Sig, Err = TP.FourFold_full(minmax=1E-9)\n",
    "    qber = TP.QBER_estimate(minmax=1E-9, preciseness=10000)\n",
    "\n",
    "    sj.append(s)\n",
    "    FF.append(Sig)\n",
    "    FFe.append(Err)\n",
    "    QBER.append(qber)\n",
    "    \n",
    "\n",
    "sjs.append(sj)\n",
    "FFs.append(FF)\n",
    "FFes.append(FFe)\n",
    "QBERs.append(QBER)\n",
    "\n",
    "print(time.time()-start_time, \" seconds for section\")"
   ]
  },
  {
   "cell_type": "markdown",
   "metadata": {},
   "source": [
    "### For the 100fs pulsed laser, the data is shown below.\n",
    "\n",
    "The first plot shows how the QBER changes as the Sync Jitter increases.\n",
    "\n",
    "The second plot shows how the Four-Fold Signal and Noise changes as a function of the Sync Jitter."
   ]
  },
  {
   "cell_type": "code",
   "execution_count": 14,
   "metadata": {},
   "outputs": [
    {
     "data": {
      "image/png": "[encoded data removed]",
      "text/plain": [
       "<Figure size 720x360 with 1 Axes>"
      ]
     },
     "metadata": {
      "needs_background": "light"
     },
     "output_type": "display_data"
    },
    {
     "data": {
      "image/png": "[encoded data removed]",
      "text/plain": [
       "<Figure size 720x360 with 1 Axes>"
      ]
     },
     "metadata": {
      "needs_background": "light"
     },
     "output_type": "display_data"
    }
   ],
   "source": [
    "plt.figure(figsize=[10,5])\n",
    "plt.plot(sjs[0],QBERs[0],\"o-\",label=\"Tsuanmi\")\n",
    "#plt.ylim([0,200])\n",
    "plt.xlabel(\"Sync Jitter, ps\")\n",
    "plt.ylabel(\"QBER\")\n",
    "plt.ylim([0,0.1])\n",
    "#plt.xlim([0,0.04])\n",
    "plt.legend()\n",
    "plt.grid()\n",
    "now = datetime.now()\n",
    "dt_string = now.strftime(\"%Y_%m_%d_%H%M%S\")\n",
    "plt.savefig(\"\".join([\"FigsFromNotebook/New/\",dt_string,\"_Tsunami_SJvQBER.png\"]))\n",
    "plt.show()\n",
    "\n",
    "time.sleep(1)\n",
    "plt.figure(figsize=[10,5])\n",
    "plt.errorbar(sjs[0],FFs[0],yerr=FFes[0],label=\"Tsunami\")\n",
    "plt.ylim([0,200])\n",
    "plt.xlabel(\"Sync Jitter, ps\")\n",
    "plt.ylabel(\"Four-Fold Coincidence rate, Hz\")\n",
    "plt.legend()\n",
    "plt.grid()\n",
    "now = datetime.now()\n",
    "dt_string = now.strftime(\"%Y_%m_%d_%H%M%S\")\n",
    "plt.savefig(\"\".join([\"FigsFromNotebook/New/\",dt_string,\"_Tsunami_SJvFF.png\"]))\n",
    "plt.show()"
   ]
  },
  {
   "cell_type": "markdown",
   "metadata": {},
   "source": [
    "Saved Figure Here\n",
    "\n",
    "[//]:![title](FigsFromNotebook/2020_08_25_101221_Tsunami_SJvQBER.png)\n",
    "\n",
    "[//]:![title](FigsFromNotebook/2020_08_25_101221_Tsunami_SJvFF.png)"
   ]
  },
  {
   "cell_type": "markdown",
   "metadata": {},
   "source": [
    "### For the 35ps pulsed laser, the data is shown below.\n",
    "\n",
    "The first plot shows how the QBER changes as the Sync Jitter increases.\n",
    "\n",
    "The second plot shows how the Four-Folt Signal and Noise changes as a function of the Sync Jitter."
   ]
  },
  {
   "cell_type": "code",
   "execution_count": 15,
   "metadata": {},
   "outputs": [
    {
     "data": {
      "image/png": "[encoded data removed]",
      "text/plain": [
       "<Figure size 720x360 with 1 Axes>"
      ]
     },
     "metadata": {
      "needs_background": "light"
     },
     "output_type": "display_data"
    },
    {
     "data": {
      "image/png": "[encoded data removed]",
      "text/plain": [
       "<Figure size 720x360 with 1 Axes>"
      ]
     },
     "metadata": {
      "needs_background": "light"
     },
     "output_type": "display_data"
    }
   ],
   "source": [
    "time.sleep(1)\n",
    "plt.figure(figsize=[10,5])\n",
    "plt.plot(sjs[1],QBERs[1],\"o-\",label=\"Katana\")\n",
    "#plt.ylim([0,200])\n",
    "plt.xlabel(\"Sync Jitter, ps\")\n",
    "plt.ylabel(\"QBER\")\n",
    "plt.ylim([0,0.1])\n",
    "#plt.xlim([0,10])\n",
    "plt.legend()\n",
    "plt.grid()\n",
    "now = datetime.now()\n",
    "dt_string = now.strftime(\"%Y_%m_%d_%H%M%S\")\n",
    "plt.savefig(\"\".join([\"FigsFromNotebook/New/\",dt_string,\"_Katana_SJvQBER.png\"]))\n",
    "plt.show()\n",
    "\n",
    "time.sleep(1)\n",
    "plt.figure(figsize=[10,5])\n",
    "plt.errorbar(sjs[1],FFs[1],yerr=FFes[1],label=\"Katana\")\n",
    "plt.ylim([0,200])\n",
    "plt.xlabel(\"Sync Jitter, ps\")\n",
    "plt.ylabel(\"Four-Fold Coincidence rate, Hz\")\n",
    "plt.legend()\n",
    "plt.grid()\n",
    "now = datetime.now()\n",
    "dt_string = now.strftime(\"%Y_%m_%d_%H%M%S\")\n",
    "plt.savefig(\"\".join([\"FigsFromNotebook/New/\",dt_string,\"_Katana_SJvFF.png\"]))\n",
    "plt.show()"
   ]
  },
  {
   "cell_type": "markdown",
   "metadata": {},
   "source": [
    "Saved Figure Here\n",
    "\n",
    "[//]:![title](FigsFromNotebook/2020_08_25_101221_Katana_SJvQBER.png)\n",
    "\n",
    "[//]:![title](FigsFromNotebook/2020_08_25_101221_Katana_SJvFF.png)"
   ]
  },
  {
   "cell_type": "markdown",
   "metadata": {},
   "source": [
    "# Plot of the Four-Fold rate vs the Singles rate"
   ]
  },
  {
   "cell_type": "code",
   "execution_count": 16,
   "metadata": {},
   "outputs": [
    {
     "name": "stdout",
     "output_type": "stream",
     "text": [
      "Tsunami Laser\n",
      "Katana Laser\n"
     ]
    }
   ],
   "source": [
    "#lasers = {\"Tsunami\":[0.1,0.004E-12,1E-12],\"Katana\":[35,1E-12,1E-9]}\n",
    "singles = []\n",
    "FFs_s = []\n",
    "FFes_s = []\n",
    "\n",
    "n = 20\n",
    "mins = 100 \n",
    "maxs = 9E5\n",
    "\n",
    "for item in lasers:\n",
    "    single = []\n",
    "    FF = []\n",
    "    FFe = []\n",
    "    \n",
    "    print(item, \"Laser\")\n",
    "    for s in np.linspace(mins,maxs,n):\n",
    "\n",
    "        S1  = Source(pair_count=s,\n",
    "                     frequency1_THz=193.4,\n",
    "                     frequency2_THz=193.4, \n",
    "                     pulse_width_ps=lasers[item][0],\n",
    "                     pulse_rate_MHz=2,\n",
    "                     singles_fluorescence = 3000,\n",
    "                     dark_counts = 1000,\n",
    "                     afterpulsing = 0.15,\n",
    "                     channel_isolation = 500,\n",
    "                     DWDM_coupling_loss = 0.35)\n",
    "\n",
    "        S2  = Source(pair_count=s,\n",
    "                     frequency1_THz=193.4, \n",
    "                     frequency2_THz=193.4, \n",
    "                     pulse_width_ps=lasers[item][0],\n",
    "                     pulse_rate_MHz=2,\n",
    "                     singles_fluorescence = 3000,\n",
    "                     dark_counts = 1000,\n",
    "                     afterpulsing = 0.15,\n",
    "                     channel_isolation = 500,\n",
    "                     DWDM_coupling_loss = 0.35)\n",
    "\n",
    "        LA1 = Link(Length=25,\n",
    "                   Loss=0.3,\n",
    "                   ITU_bandwidth_Hz = 100*1E9,\n",
    "                   peak_wavelength_nm=1550.12,\n",
    "                   dispersion_coef=18,\n",
    "                   fibre_coupling_loss=0.08)\n",
    "\n",
    "        LR1 = Link(Length = 25,\n",
    "                   Loss=0.3,\n",
    "                   ITU_bandwidth_Hz = 100*1E9,\n",
    "                   peak_wavelength_nm=1550.12,\n",
    "                   dispersion_coef=18,\n",
    "                   fibre_coupling_loss=0.08)\n",
    "\n",
    "        LB2 = Link(Length = 25,\n",
    "                   Loss=0.3,\n",
    "                   ITU_bandwidth_Hz = 100*1E9,\n",
    "                   peak_wavelength_nm=1550.12,\n",
    "                   dispersion_coef=18,\n",
    "                   fibre_coupling_loss=0.08)\n",
    "\n",
    "        LR2 = Link(Length = 25,\n",
    "                   Loss=0.3,\n",
    "                   ITU_bandwidth_Hz = 100*1E9,\n",
    "                   peak_wavelength_nm=1550.12,\n",
    "                   dispersion_coef=18,\n",
    "                   fibre_coupling_loss=0.08)\n",
    "\n",
    "        UA  = User(Link = LA1,\n",
    "                   Source = S1)\n",
    "\n",
    "        UB  = User(Link = LB2,\n",
    "                   Source = S2)\n",
    "\n",
    "        Sy  = Sync(Source1 = S1,\n",
    "                   Link1 = LR1,\n",
    "                   Source2 = S2,\n",
    "                   Link2 = LR2, \n",
    "                   coincidence_window = 150E-12, \n",
    "                   sync_jitter = lasers[item][1])\n",
    "\n",
    "        R   = Repeater(UA,UB,S1,S2,LA1,LR1,LB2,LR2,Sy)\n",
    "        TP  = TwoPartyQKD(R)\n",
    "\n",
    "        Sig, Err = TP.FourFold_full(minmax=lasers[item][2])\n",
    "\n",
    "        single.append(UA.SinglesCounts()+UA.SignalCounts())\n",
    "        FF.append(Sig)\n",
    "        FFe.append(Err)\n",
    "\n",
    "    singles.append(single)\n",
    "    FFs_s.append(FF)\n",
    "    FFes_s.append(FFe)"
   ]
  },
  {
   "cell_type": "markdown",
   "metadata": {},
   "source": [
    "### The Four-Fold Coincidence Rate\n",
    "\n",
    "The below shows how the rate of Four-Fold coincidences changes as the specified pair generation rate is changed.\n",
    "\n",
    "Each Laser has a different heralding efficiency, as shown in figures 1, so for the same generation rate one laser has more total singles."
   ]
  },
  {
   "cell_type": "code",
   "execution_count": 17,
   "metadata": {},
   "outputs": [
    {
     "data": {
      "image/png": "[encoded data removed]",
      "text/plain": [
       "<Figure size 720x360 with 1 Axes>"
      ]
     },
     "metadata": {
      "needs_background": "light"
     },
     "output_type": "display_data"
    }
   ],
   "source": [
    "plt.figure(figsize=[10,5])\n",
    "plt.errorbar(singles[0],FFs_s[0],yerr=FFes_s[0],label=\"Tsunami\")\n",
    "plt.errorbar(singles[1],FFs_s[1],yerr=FFes_s[1],label=\"Katana\")\n",
    "plt.title(\"The Four-Fold Coincidences Vs The Total Photon Count Received at Alice\")\n",
    "plt.xlabel(\"Singles as Alice, Hz\")\n",
    "plt.ylabel(\"Four-Fold Coincidence rate, Hz\")\n",
    "plt.legend()\n",
    "plt.grid()\n",
    "now = datetime.now()\n",
    "dt_string = now.strftime(\"%Y_%m_%d_%H%M%S\")\n",
    "plt.savefig(\"\".join([\"FigsFromNotebook/New/\",dt_string,\"_FFvSingles.png\"]))\n",
    "plt.show()"
   ]
  },
  {
   "cell_type": "markdown",
   "metadata": {},
   "source": [
    "Saved Figure Here\n",
    "\n",
    "[//]:![title](FigsFromNotebook/2020_08_26_124732_FFvSingles.png)"
   ]
  },
  {
   "cell_type": "markdown",
   "metadata": {},
   "source": [
    "<br>\n",
    "\n",
    "## Conclusion\n",
    "\n",
    "From this information it is likely that the Katana pump laser, with a 0.1ps pulse width, is unlikely to be usable.\n",
    "\n",
    "This is because a synchronisation jitter of less than a ps is extremely unlikely to be acheived.\n",
    "\n",
    "This leads to further work that will look at producing ps synchronisation jitter with the Tsunami pump laser.\n",
    "\n",
    "This work will allow for a more definitive answer to the usability of either laser system."
   ]
  },
  {
   "cell_type": "code",
   "execution_count": null,
   "metadata": {},
   "outputs": [],
   "source": []
  }
 ],
 "metadata": {
  "kernelspec": {
   "display_name": "Python 3",
   "language": "python",
   "name": "python3"
  },
  "language_info": {
   "codemirror_mode": {
    "name": "ipython",
    "version": 3
   },
   "file_extension": ".py",
   "mimetype": "text/x-python",
   "name": "python",
   "nbconvert_exporter": "python",
   "pygments_lexer": "ipython3",
   "version": "3.7.6"
  }
 },
 "nbformat": 4,
 "nbformat_minor": 4
}
